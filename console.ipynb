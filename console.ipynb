{
  "cells": [
    {
      "cell_type": "markdown",
      "metadata": {},
      "source": [
        "# Spectral Maps Rediscovered"
      ]
    },
    {
      "cell_type": "markdown",
      "metadata": {},
      "source": [
        "Questo file serve per prove prima delle implementazioni"
      ]
    }
  ],
  "metadata": {
    "language_info": {
      "name": "python"
    }
  },
  "nbformat": 4,
  "nbformat_minor": 2
}
